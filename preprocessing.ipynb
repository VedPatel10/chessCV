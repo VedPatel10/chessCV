{
  "nbformat": 4,
  "nbformat_minor": 0,
  "metadata": {
    "colab": {
      "provenance": [],
      "toc_visible": true
    },
    "kernelspec": {
      "name": "python3",
      "display_name": "Python 3"
    },
    "language_info": {
      "name": "python"
    }
  },
  "cells": [
    {
      "cell_type": "markdown",
      "source": [
        "# SET UP"
      ],
      "metadata": {
        "id": "6969mCF3iU1Y"
      }
    },
    {
      "cell_type": "code",
      "execution_count": null,
      "metadata": {
        "id": "w-0oeR7piKLk"
      },
      "outputs": [],
      "source": [
        "# ALL IMPORTS\n",
        "\n",
        "import json\n",
        "import os\n",
        "from collections import defaultdict\n",
        "\n",
        "from torch.utils.data import Dataset\n",
        "from PIL import Image\n",
        "import torchvision.transforms as transforms\n",
        "import torch\n",
        "\n",
        "import matplotlib.pyplot as plt\n",
        "import numpy as np\n",
        "\n",
        "import cv2\n",
        "from torch.utils.data import DataLoader\n"
      ]
    },
    {
      "cell_type": "code",
      "source": [
        "# mount our Google Drive\n",
        "\n",
        "from google.colab import drive\n",
        "drive.mount('/content/drive')"
      ],
      "metadata": {
        "id": "sXHJauIfiXl_"
      },
      "execution_count": null,
      "outputs": []
    },
    {
      "cell_type": "code",
      "source": [
        "# unzip images in Google Drive\n",
        "\n",
        "!unzip '/content/drive/MyDrive/Colab Notebooks/APS360/Project/chessred2k.zip' -d '/content/drive/MyDrive/Colab Notebooks/APS360/Project/ChessReD2K'"
      ],
      "metadata": {
        "id": "R3d5IjGsiZvn"
      },
      "execution_count": null,
      "outputs": []
    },
    {
      "cell_type": "code",
      "source": [
        "# unzip images in Google Drive\n",
        "\n",
        "!unzip '/content/drive/MyDrive/Colab Notebooks/APS360/Project/chessred.zip' -d '/content/drive/MyDrive/Colab Notebooks/APS360/Project/ChessReD'"
      ],
      "metadata": {
        "id": "dAZ2q7VfibVN"
      },
      "execution_count": null,
      "outputs": []
    },
    {
      "cell_type": "code",
      "source": [
        "data_dir = '/content/drive/MyDrive/Colab Notebooks/APS360/Project/ChessReD'\n",
        "annotation_dir = '/content/drive/MyDrive/Colab Notebooks/APS360/Project/annotations.json'\n",
        "\n",
        "with open(annotation_dir, \"r\") as f:\n",
        "            annotations = json.load(f)"
      ],
      "metadata": {
        "id": "01Y9bSfgicbj"
      },
      "execution_count": null,
      "outputs": []
    },
    {
      "cell_type": "markdown",
      "source": [
        "# CONVERTING ANNOTATIONS TO FEN"
      ],
      "metadata": {
        "id": "RXB7Xu_Tifgv"
      }
    },
    {
      "cell_type": "code",
      "source": [
        "# IMPORTANT\n",
        "\n",
        "image_id_to_path = {img['id']: os.path.join(data_dir, img['path']) for img in annotations['images']}\n",
        "print(image_id_to_path)\n",
        "\n",
        "image_to_pieces = defaultdict(list)\n",
        "for ann in annotations['annotations']['pieces']:\n",
        "    image_to_pieces[ann['image_id']].append(ann)\n",
        "print(image_to_pieces[0])\n",
        "\n",
        "print(image_id_to_path[103])\n",
        "\n",
        "print(image_to_pieces[8000])"
      ],
      "metadata": {
        "id": "xWIpAHETihWX"
      },
      "execution_count": null,
      "outputs": []
    },
    {
      "cell_type": "code",
      "source": [
        "# IMPORTANT\n",
        "# uppercase is white, lowercase is black\n",
        "id_to_piece = {\n",
        "    0: 'P', 1: 'R', 2: 'N', 3: 'B', 4: 'Q', 5: 'K',\n",
        "    6: 'p', 7: 'r', 8: 'n', 9: 'b', 10: 'q', 11: 'k',\n",
        "    12: '1'  # empty\n",
        "}\n",
        "\n",
        "piece_to_label = {\n",
        "    'P': 0, 'R': 1, 'N': 2, 'B': 3, 'Q': 4, 'K': 5,\n",
        "    'p': 6, 'r': 7, 'n': 8, 'b': 9, 'q': 10, 'k': 11\n",
        "}\n",
        "\n",
        "def fen_to_label_vector(fen, empty_char='0'):\n",
        "    squares = []\n",
        "    for row in fen.split('/'):\n",
        "        for ch in row:\n",
        "            if ch == empty_char:\n",
        "                squares.append(12)\n",
        "            elif ch.isdigit():\n",
        "                squares.extend([12] * int(ch))  # for compressed digits like 8\n",
        "            else:\n",
        "                squares.append(piece_to_label[ch])\n",
        "    assert len(squares) == 64, f\"Expected 64 squares but got {len(squares)} in FEN: {fen}\"\n",
        "    return torch.tensor(squares, dtype=torch.long)\n",
        "\n",
        "# convert image piece list to FEN\n",
        "def pieces_to_fen(piece_list):\n",
        "    board = [['1'] * 8 for _ in range(8)]\n",
        "    pos_to_index = lambda pos: (8 - int(pos[1]), ord(pos[0]) - ord('a'))\n",
        "\n",
        "    for piece in piece_list:\n",
        "        row, col = pos_to_index(piece['chessboard_position'])\n",
        "        board[row][col] = id_to_piece[piece['category_id']]\n",
        "\n",
        "    fen_rows = []\n",
        "    for row in board:\n",
        "        fen_row = ''\n",
        "        count = 0\n",
        "        for cell in row:\n",
        "            if cell == '1':\n",
        "                fen_row += '0'\n",
        "            else:\n",
        "                fen_row += cell\n",
        "        fen_rows.append(fen_row)\n",
        "\n",
        "    return '/'.join(fen_rows)\n",
        "def label_vector_to_fen(label_vector):\n",
        "    \"\"\"\n",
        "    Converts a length-64 label vector into a FEN string.\n",
        "    Assumes label 12 is empty.\n",
        "    \"\"\"\n",
        "    assert len(label_vector) == 64, f\"Expected 64 squares, got {len(label_vector)}\"\n",
        "\n",
        "    fen_rows = []\n",
        "    for i in range(0, 64, 8):\n",
        "        row = label_vector[i:i+8]\n",
        "        fen_row = ''\n",
        "        empty_count = 0\n",
        "\n",
        "        for val in row:\n",
        "            if val == 12:  # empty square\n",
        "                empty_count += 1\n",
        "            else:\n",
        "                if empty_count > 0:\n",
        "                    fen_row += str(empty_count)\n",
        "                    empty_count = 0\n",
        "                fen_row += id_to_piece[int(val)]\n",
        "\n",
        "        if empty_count > 0:\n",
        "            fen_row += str(empty_count)\n",
        "\n",
        "        fen_rows.append(fen_row)\n",
        "\n",
        "    return '/'.join(fen_rows)\n",
        "\n",
        "print(pieces_to_fen(image_to_pieces[2384]))\n",
        "print(fen_to_label_vector(pieces_to_fen(image_to_pieces[10])))\n",
        "print(fen_to_label_vector(pieces_to_fen(image_to_pieces[10])).shape)"
      ],
      "metadata": {
        "id": "FJYYVpxEiivH"
      },
      "execution_count": null,
      "outputs": []
    },
    {
      "cell_type": "markdown",
      "source": [
        "# PREPROCESSING (HOUGH), SAVING TO DRIVE"
      ],
      "metadata": {
        "id": "SYitYf92irLR"
      }
    },
    {
      "cell_type": "code",
      "source": [
        "# VERY IMPORTANT, PREPROCESSING OF BOARD TO GET OVERHEAD IMG\n",
        "\n",
        "import cv2\n",
        "import numpy as np\n",
        "import matplotlib.pyplot as plt\n",
        "\n",
        "def detect_board_corners(img):\n",
        "    gray = cv2.cvtColor(img, cv2.COLOR_BGR2GRAY)\n",
        "    blur = cv2.GaussianBlur(gray, (5, 5), 0)\n",
        "    edges = cv2.Canny(blur, 50, 150)\n",
        "\n",
        "    kernel = cv2.getStructuringElement(cv2.MORPH_RECT, (5, 5))\n",
        "    dilated = cv2.dilate(edges, kernel, iterations=2)\n",
        "\n",
        "    contours, _ = cv2.findContours(dilated, cv2.RETR_EXTERNAL, cv2.CHAIN_APPROX_SIMPLE)\n",
        "    contours = sorted(contours, key=cv2.contourArea, reverse=True)\n",
        "\n",
        "    image_area = img.shape[0] * img.shape[1]\n",
        "\n",
        "    for cnt in contours:\n",
        "        epsilon = 0.02 * cv2.arcLength(cnt, True)\n",
        "        approx = cv2.approxPolyDP(cnt, epsilon, True)\n",
        "\n",
        "        if len(approx) == 4 and cv2.contourArea(approx) > 0.1 * image_area:\n",
        "            corners = np.float32([pt[0] for pt in approx])\n",
        "            ordered = order_points_robust(corners)\n",
        "            return ordered, dilated\n",
        "\n",
        "    return None, dilated\n",
        "\n",
        "\n",
        "def order_points_robust(pts):\n",
        "    # First, get bounding box\n",
        "    x_sorted = pts[np.argsort(pts[:, 0]), :]\n",
        "    left_most = x_sorted[:2, :]\n",
        "    right_most = x_sorted[2:, :]\n",
        "\n",
        "    # sort by y-coord\n",
        "    tl, bl = left_most[np.argsort(left_most[:, 1]), :]\n",
        "    tr, br = right_most[np.argsort(right_most[:, 1]), :]\n",
        "\n",
        "    return np.array([tl, tr, br, bl], dtype=\"float32\")  # Clockwise\n",
        "\n",
        "def draw_corners(img, corners):\n",
        "    img_copy = img.copy()\n",
        "    labels = [\"TL\", \"TR\", \"BR\", \"BL\"]\n",
        "    for i, pt in enumerate(corners):\n",
        "        pt_int = tuple(np.int32(pt))\n",
        "        cv2.circle(img_copy, pt_int, 14, (0, 0, 255), -1)\n",
        "        cv2.putText(img_copy, labels[i], (pt_int[0] + 10, pt_int[1] - 10),\n",
        "                    cv2.FONT_HERSHEY_SIMPLEX, 2.0, (255, 0, 0), 3)\n",
        "    for i in range(4):\n",
        "        pt1 = tuple(np.int32(corners[i]))\n",
        "        pt2 = tuple(np.int32(corners[(i + 1) % 4]))\n",
        "        cv2.line(img_copy, pt1, pt2, (0, 255, 0), 2)\n",
        "    return img_copy\n",
        "\n",
        "\n",
        "def warp_board(img, corners, output_size=400):\n",
        "    src_pts = order_points_robust(corners)\n",
        "    dst_pts = np.array([\n",
        "        [0, 0],\n",
        "        [output_size-1, 0],\n",
        "        [output_size-1, output_size-1],\n",
        "        [0, output_size-1]\n",
        "    ], dtype=\"float32\")\n",
        "\n",
        "    M = cv2.getPerspectiveTransform(src_pts, dst_pts)\n",
        "    warped = cv2.warpPerspective(img, M, (output_size, output_size))\n",
        "    return warped\n",
        "\n",
        "def slice_squares(warped, square_size=50):\n",
        "    squares = []\n",
        "    for row in range(8):\n",
        "        for col in range(8):\n",
        "            x1 = col * square_size\n",
        "            y1 = row * square_size\n",
        "            square = warped[y1:y1 + square_size, x1:x1 + square_size]\n",
        "            squares.append(square)\n",
        "    return squares\n",
        "\n",
        "def preprocess_chessboard(image_path, output_size=400, display=True):\n",
        "    img = cv2.imread(image_path)\n",
        "    corners, debug_dilated = detect_board_corners(img)\n",
        "\n",
        "    if corners is None:\n",
        "        print(\"no corners\")\n",
        "        return\n",
        "        raise ValueError(\"Board corners could not be detected.\")\n",
        "\n",
        "    corner_overlay = draw_corners(img, corners)\n",
        "    warped = warp_board(img, corners, output_size)\n",
        "    squares = slice_squares(warped, square_size=output_size // 8)\n",
        "\n",
        "    if display:\n",
        "        titles = [\"Original\", \"Dilated Edges\", \"Corner Overlay\", \"Warped Top-Down\"]\n",
        "        images = [img, debug_dilated, corner_overlay, warped]\n",
        "\n",
        "        plt.figure(figsize=(60, 20))\n",
        "        for i in range(4):\n",
        "            plt.subplot(1, 4, i + 1)\n",
        "            img_disp = images[i]\n",
        "            if len(img_disp.shape) == 2:\n",
        "                plt.imshow(img_disp, cmap='gray')\n",
        "            else:\n",
        "                img_disp = cv2.cvtColor(img_disp, cv2.COLOR_BGR2RGB)\n",
        "                plt.imshow(img_disp)\n",
        "            plt.title(titles[i], fontsize=70)\n",
        "            plt.axis('off')\n",
        "        plt.tight_layout()\n",
        "        plt.show()\n",
        "\n",
        "    return warped, squares\n",
        "\n",
        "test = preprocess_chessboard(image_id_to_path.get(annotations['splits']['chessred2k']['train']['image_ids'][10]))\n",
        "print(pieces_to_fen(image_to_pieces[annotations['splits']['chessred2k']['train']['image_ids'][2]]))"
      ],
      "metadata": {
        "id": "GxGo-TzDipwO"
      },
      "execution_count": null,
      "outputs": []
    },
    {
      "cell_type": "code",
      "source": [
        "def expand_fen(fen, empty_char='0'):\n",
        "    board = []\n",
        "    for row in fen.split('/'):\n",
        "        expanded_row = []\n",
        "        for ch in row:\n",
        "            if ch.isdigit() and ch != empty_char:\n",
        "                expanded_row.extend([empty_char] * int(ch))\n",
        "            else:\n",
        "                expanded_row.append(ch)\n",
        "        board.append(expanded_row)\n",
        "    return board\n",
        "\n",
        "def compress_fen_row(row, empty_char='0'):\n",
        "    compressed = ''\n",
        "    count = 0\n",
        "    for ch in row:\n",
        "        if ch == empty_char:\n",
        "            count += 1\n",
        "        else:\n",
        "            if count:\n",
        "                compressed += str(count)\n",
        "                count = 0\n",
        "            compressed += ch\n",
        "    if count:\n",
        "        compressed += str(count)\n",
        "    return compressed\n",
        "\n",
        "def board_to_fen(board, empty_char='0'):\n",
        "    return '/'.join([compress_fen_row(row, empty_char=empty_char) for row in board])\n",
        "def rotate_fen_90(fen, empty_char='0'):\n",
        "    board = expand_fen(fen, empty_char)\n",
        "    rotated = list(zip(*board[::-1]))\n",
        "    rotated = [list(row) for row in rotated]\n",
        "    return board_to_fen(rotated, empty_char)\n",
        "\n",
        "def rotate_fen_180(fen, empty_char='0'):\n",
        "    board = expand_fen(fen, empty_char)\n",
        "    rotated = [row[::-1] for row in board[::-1]]\n",
        "    return board_to_fen(rotated, empty_char)\n",
        "\n",
        "def rotate_fen_270(fen, empty_char='0'):\n",
        "    board = expand_fen(fen, empty_char)\n",
        "    rotated = list(zip(*board))[::-1]\n",
        "    rotated = [list(row) for row in rotated]\n",
        "    return board_to_fen(rotated, empty_char)\n",
        "test_fen = \"rnbqkbnr/pppppppp/00000000/00000000/00000000/00000000/PPPPPPPP/RNBQKBNR\"\n",
        "\n",
        "print(\"Original:     \", test_fen)\n",
        "print(\"Rotated 90°:  \", rotate_fen_90(test_fen))\n",
        "print(\"Rotated 180°: \", rotate_fen_180(test_fen))\n",
        "print(\"Rotated 270°: \", rotate_fen_270(test_fen))\n"
      ],
      "metadata": {
        "id": "FSl3Q-FdiwnE"
      },
      "execution_count": null,
      "outputs": []
    },
    {
      "cell_type": "markdown",
      "source": [
        "## PREPROCESS CHESSRED TRAIN"
      ],
      "metadata": {
        "id": "kGIzS69Ti1uY"
      }
    },
    {
      "cell_type": "code",
      "source": [
        "# VERY IMPORTANT, SAVE WARPED CHESSRES2K IMAGES to DRIVE\n",
        "\n",
        "import os\n",
        "from google.colab import drive\n",
        "from tqdm.notebook import tqdm\n",
        "\n",
        "\n",
        "# Create save directory if it doesn't exist\n",
        "save_dir = \"/content/drive/MyDrive/Colab Notebooks/APS360/Project/ChessReD_Hough\"\n",
        "os.makedirs(save_dir, exist_ok=True)\n",
        "\n",
        "X = []  # Paths to warped images\n",
        "y = []  # Labels (4 FEN rotations each)\n",
        "\n",
        "valid_ids = []\n",
        "error_ids = []\n",
        "invalid_warp_ids = []\n",
        "\n",
        "# train_chessred2k_ids = annotations['splits']['chessred2k']['train']['image_ids']\n",
        "chessred_ids = annotations['splits']['train']['image_ids']\n",
        "\n",
        "for i in tqdm(chessred_ids, desc=\"Processing Images\"):\n",
        "    path = image_id_to_path.get(i)\n",
        "    if path is None:\n",
        "        error_ids.append(i)\n",
        "        continue\n",
        "\n",
        "    try:\n",
        "        warped, _ = preprocess_chessboard(path, display=False)\n",
        "        if warped is None or np.std(warped) < 50:\n",
        "            invalid_warp_ids.append(i)\n",
        "            continue\n",
        "\n",
        "        # Save warped image\n",
        "        img_save_path = os.path.join(save_dir, f\"{i}.png\")\n",
        "        cv2.imwrite(img_save_path, warped)\n",
        "\n",
        "        # Get FEN\n",
        "        pieces = image_to_pieces[i]\n",
        "        fen = pieces_to_fen(pieces)\n",
        "\n",
        "        X.append(img_save_path)\n",
        "        y.append(fen)\n",
        "        valid_ids.append(i)\n",
        "\n",
        "    except Exception as e:\n",
        "        error_ids.append(i)\n",
        "\n",
        "\n",
        "with open(\"/content/drive/MyDrive/Colab Notebooks/APS360/Project/chessred_hough.pkl\", \"wb\") as f:\n",
        "  pickle.dump((X, y), f)\n",
        "\n",
        "print(\"✅ Total valid images:\", len(valid_ids))\n",
        "print(\"❌ Total errors:\", len(error_ids))\n",
        "print(\"⚠️ Total invalid warped:\", len(invalid_warp_ids))\n"
      ],
      "metadata": {
        "id": "ey596wNliyw8"
      },
      "execution_count": null,
      "outputs": []
    },
    {
      "cell_type": "markdown",
      "source": [
        "results:\n",
        "\n",
        "Processing Images: 100%\n",
        " 6479/6479 [35:45<00:00,  8.52it/s]\n",
        "✅ Total valid images: 5325\n",
        "❌ Total errors: 1151\n",
        "⚠️ Total invalid warped: 3"
      ],
      "metadata": {
        "id": "dDiIY8lBjY1A"
      }
    },
    {
      "cell_type": "markdown",
      "source": [
        "## PREPROCESS CHESSRED VAL"
      ],
      "metadata": {
        "id": "w-yJL_rDjPYS"
      }
    },
    {
      "cell_type": "code",
      "source": [
        "X = []  # Paths to warped images\n",
        "y = []  # Labels (4 FEN rotations each)\n",
        "\n",
        "valid_ids = []\n",
        "error_ids = []\n",
        "invalid_warp_ids = []\n",
        "\n",
        "# train_chessred2k_ids = annotations['splits']['chessred2k']['train']['image_ids']\n",
        "chessred_ids = annotations['splits']['val']['image_ids']\n",
        "\n",
        "for i in tqdm(chessred_ids, desc=\"Processing Images\"):\n",
        "    path = image_id_to_path.get(i)\n",
        "    if path is None:\n",
        "        error_ids.append(i)\n",
        "        continue\n",
        "\n",
        "    try:\n",
        "        warped, _ = preprocess_chessboard(path, display=False)\n",
        "        if warped is None or np.std(warped) < 50:\n",
        "            invalid_warp_ids.append(i)\n",
        "            continue\n",
        "\n",
        "        # Save warped image\n",
        "        img_save_path = os.path.join(save_dir, f\"{i}.png\")\n",
        "        cv2.imwrite(img_save_path, warped)\n",
        "\n",
        "        # Get FEN\n",
        "        pieces = image_to_pieces[i]\n",
        "        fen = pieces_to_fen(pieces)\n",
        "\n",
        "        X.append(img_save_path)\n",
        "        y.append(fen)\n",
        "        valid_ids.append(i)\n",
        "\n",
        "    except Exception as e:\n",
        "        error_ids.append(i)\n",
        "\n",
        "\n",
        "with open(\"/content/drive/MyDrive/Colab Notebooks/APS360/Project/chessred_hough_val.pkl\", \"wb\") as f:\n",
        "  pickle.dump((X, y), f)\n",
        "\n",
        "print(\"✅ Total valid images:\", len(valid_ids))\n",
        "print(\"❌ Total errors:\", len(error_ids))\n",
        "print(\"⚠️ Total invalid warped:\", len(invalid_warp_ids))"
      ],
      "metadata": {
        "id": "wj7ebJpPjR2D"
      },
      "execution_count": null,
      "outputs": []
    },
    {
      "cell_type": "markdown",
      "source": [
        "results:\n",
        "\n",
        "Processing Images: 100%\n",
        " 2192/2192 [23:30<00:00,  7.89it/s]\n",
        "✅ Total valid images: 1835\n",
        "❌ Total errors: 357\n",
        "⚠️ Total invalid warped: 0"
      ],
      "metadata": {
        "id": "iGpNUAnaje4t"
      }
    },
    {
      "cell_type": "markdown",
      "source": [
        "## PREPROCESS CHESSRED TEST"
      ],
      "metadata": {
        "id": "PLSY0latjTuc"
      }
    },
    {
      "cell_type": "code",
      "source": [
        "X = []  # Paths to warped images\n",
        "y = []  # Labels (4 FEN rotations each)\n",
        "\n",
        "valid_ids = []\n",
        "error_ids = []\n",
        "invalid_warp_ids = []\n",
        "\n",
        "# train_chessred2k_ids = annotations['splits']['chessred2k']['train']['image_ids']\n",
        "chessred_ids = annotations['splits']['test']['image_ids']\n",
        "\n",
        "for i in tqdm(chessred_ids, desc=\"Processing Images\"):\n",
        "    path = image_id_to_path.get(i)\n",
        "    if path is None:\n",
        "        error_ids.append(i)\n",
        "        continue\n",
        "\n",
        "    try:\n",
        "        warped, _ = preprocess_chessboard(path, display=False)\n",
        "        if warped is None or np.std(warped) < 50:\n",
        "            invalid_warp_ids.append(i)\n",
        "            continue\n",
        "\n",
        "        # Save warped image\n",
        "        img_save_path = os.path.join(save_dir, f\"{i}.png\")\n",
        "        cv2.imwrite(img_save_path, warped)\n",
        "\n",
        "        # Get FEN\n",
        "        pieces = image_to_pieces[i]\n",
        "        fen = pieces_to_fen(pieces)\n",
        "\n",
        "        X.append(img_save_path)\n",
        "        y.append(fen)\n",
        "        valid_ids.append(i)\n",
        "\n",
        "    except Exception as e:\n",
        "        error_ids.append(i)\n",
        "\n",
        "\n",
        "with open(\"/content/drive/MyDrive/Colab Notebooks/APS360/Project/chessred_hough_test.pkl\", \"wb\") as f:\n",
        "  pickle.dump((X, y), f)\n",
        "\n",
        "print(\"✅ Total valid images:\", len(valid_ids))\n",
        "print(\"❌ Total errors:\", len(error_ids))\n",
        "print(\"⚠️ Total invalid warped:\", len(invalid_warp_ids))"
      ],
      "metadata": {
        "id": "ARUpZbXFjVxL"
      },
      "execution_count": null,
      "outputs": []
    },
    {
      "cell_type": "markdown",
      "source": [
        "results:\n",
        "\n",
        "Processing Images: 100%\n",
        " 2129/2129 [21:20<00:00,  9.61it/s]\n",
        "✅ Total valid images: 1790\n",
        "❌ Total errors: 336\n",
        "⚠️ Total invalid warped: 3"
      ],
      "metadata": {
        "id": "bfMiVHM-jklS"
      }
    }
  ]
}